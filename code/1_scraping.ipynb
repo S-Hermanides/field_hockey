{
 "cells": [
  {
   "cell_type": "code",
   "execution_count": 1,
   "metadata": {
    "ExecuteTime": {
     "end_time": "2020-08-25T01:59:08.868104Z",
     "start_time": "2020-08-25T01:59:07.488095Z"
    }
   },
   "outputs": [],
   "source": [
    "from bs4 import BeautifulSoup\n",
    "import requests\n",
    "import time, os\n",
    "import pandas as pd\n",
    "import numpy as np\n",
    "\n",
    "from selenium import webdriver\n",
    "from selenium.webdriver.common.keys import Keys\n",
    "from selenium.webdriver.support.ui import Select\n",
    "\n",
    "from scraping_functions import get_data, add_to_result, get_stats, get_games"
   ]
  },
  {
   "cell_type": "markdown",
   "metadata": {},
   "source": [
    "## Scraping"
   ]
  },
  {
   "cell_type": "markdown",
   "metadata": {},
   "source": [
    "Data is scraped from the NCAA stats website. This website has a lot of dropdowns to get to the relevant pages, so I am using Selenium to go through the dropdowns for each season and add them to the results."
   ]
  },
  {
   "cell_type": "code",
   "execution_count": 2,
   "metadata": {
    "ExecuteTime": {
     "end_time": "2020-08-25T01:59:15.626529Z",
     "start_time": "2020-08-25T01:59:15.619014Z"
    }
   },
   "outputs": [],
   "source": [
    "chromedriver = \"/Applications/chromedriver\" # path to the chromedriver executable\n",
    "os.environ[\"webdriver.chrome.driver\"] = chromedriver\n",
    "base_url = 'https://stats.ncaa.org/rankings/change_sport_year_div'"
   ]
  },
  {
   "cell_type": "code",
   "execution_count": 3,
   "metadata": {
    "ExecuteTime": {
     "end_time": "2020-08-25T02:02:50.062292Z",
     "start_time": "2020-08-25T01:59:50.313179Z"
    }
   },
   "outputs": [],
   "source": [
    "driver = webdriver.Chrome(chromedriver)\n",
    "driver.get(base_url)\n",
    "\n",
    "dropdown_sport = Select(driver.find_element_by_id('sport'))\n",
    "dropdown_sport.select_by_visible_text('Field Hockey')\n",
    "# time.sleep(1)\n",
    "\n",
    "dropdown_season = Select(driver.find_element_by_id('acadyr'))\n",
    "seasons = [option.text for option in dropdown_season.options]\n",
    "dropdown_season.select_by_visible_text('2019-20')\n",
    "# time.sleep(1)\n",
    "\n",
    "dropdown_div = Select(driver.find_element_by_id('u_div'))\n",
    "dropdown_div.select_by_visible_text('I')\n",
    "# time.sleep(1)\n",
    "\n",
    "short_link = driver.find_element_by_id('stat_type_T_N')\n",
    "short_link.click()\n",
    "# time.sleep(1)\n",
    "\n",
    "dropdown_stats = Select(driver.find_element_by_id('Stats'))\n",
    "stats = [option.text for option in dropdown_stats.options]\n",
    "stats.remove('Additional Stats')\n",
    "dropdown_stats.select_by_visible_text('Assists Per Game')\n",
    "time.sleep(1)\n",
    "\n",
    "dropdown_display = Select(driver.find_element_by_name('rankings_table_length'))\n",
    "dropdown_display.select_by_value('-1')\n",
    "\n",
    "soup = BeautifulSoup(driver.page_source, 'lxml')\n",
    "data_table = soup.find('table', {'id':'rankings_table'})\n",
    "teams_list = [link.text.split('(')[0].strip() for link in data_table.findAll('a')]\n",
    "final = []\n",
    "header = ['season', 'games', 'Assists Per Game', 'Defensive Saves', 'Goals Against Average', 'Goals Per Game', \n",
    "          'Penalty Corners Per Game', 'Points Per Game', 'Save Percentage', 'Saves Per Game', 'Scoring Average', \n",
    "          'Scoring Margin', 'Shutouts Per Game', 'Winning Percentage']\n",
    "\n",
    "# Gather data for 8 seasons\n",
    "for season in seasons[0:8]:\n",
    "    dropdown_season = Select(driver.find_element_by_id('acadyr'))\n",
    "    dropdown_season.select_by_visible_text(season)\n",
    "    time.sleep(1)\n",
    "\n",
    "    dropdown_div = Select(driver.find_element_by_id('u_div'))\n",
    "    dropdown_div.select_by_visible_text('I')\n",
    "    time.sleep(1)\n",
    "\n",
    "    short_link = driver.find_element_by_id('stat_type_T_N')\n",
    "    short_link.click()\n",
    "    time.sleep(1)\n",
    "\n",
    "    dropdown_stats = Select(driver.find_element_by_id('Stats'))\n",
    "    stats = [option.text for option in dropdown_stats.options]\n",
    "    stats.remove('Additional Stats')\n",
    "    dropdown_stats.select_by_visible_text('Assists Per Game')\n",
    "    time.sleep(1)\n",
    "    \n",
    "    dropdown_display = Select(driver.find_element_by_name('rankings_table_length'))\n",
    "    dropdown_display.select_by_value('-1')\n",
    "    time.sleep(1)\n",
    "\n",
    "    result = {team:[] for team in teams_list}\n",
    "    for key in result:\n",
    "        result[key].append(season)\n",
    "    games_dict = get_games(driver)\n",
    "    for team in result:\n",
    "        if team in games_dict:\n",
    "            result[team].append(games_dict[team])\n",
    "        else:\n",
    "            result[team].append(np.nan)\n",
    "    season_stats = get_stats(driver, result, header, stats, teams_list)\n",
    "    final.append(season_stats)\n",
    "\n",
    "driver.close()"
   ]
  },
  {
   "cell_type": "markdown",
   "metadata": {},
   "source": [
    "### Create Dataframe"
   ]
  },
  {
   "cell_type": "code",
   "execution_count": 12,
   "metadata": {
    "ExecuteTime": {
     "end_time": "2020-08-25T02:04:51.874762Z",
     "start_time": "2020-08-25T02:04:51.854145Z"
    }
   },
   "outputs": [],
   "source": [
    "data = pd.DataFrame(final[0]).transpose().reset_index()\n",
    "columns = ['team'] + header\n",
    "data.columns = columns"
   ]
  },
  {
   "cell_type": "code",
   "execution_count": 13,
   "metadata": {
    "ExecuteTime": {
     "end_time": "2020-08-25T02:05:21.477362Z",
     "start_time": "2020-08-25T02:05:21.390155Z"
    }
   },
   "outputs": [],
   "source": [
    "for i,season in enumerate(final[1:],1):\n",
    "    df = pd.DataFrame(final[i]).transpose().reset_index()\n",
    "    df.columns = columns\n",
    "    data = data.append(df)"
   ]
  },
  {
   "cell_type": "code",
   "execution_count": 14,
   "metadata": {
    "ExecuteTime": {
     "end_time": "2020-08-25T02:05:41.597813Z",
     "start_time": "2020-08-25T02:05:41.582612Z"
    }
   },
   "outputs": [
    {
     "name": "stdout",
     "output_type": "stream",
     "text": [
      "<class 'pandas.core.frame.DataFrame'>\n",
      "Int64Index: 616 entries, 0 to 76\n",
      "Data columns (total 15 columns):\n",
      " #   Column                    Non-Null Count  Dtype \n",
      "---  ------                    --------------  ----- \n",
      " 0   team                      616 non-null    object\n",
      " 1   season                    616 non-null    object\n",
      " 2   games                     578 non-null    object\n",
      " 3   Assists Per Game          578 non-null    object\n",
      " 4   Defensive Saves           559 non-null    object\n",
      " 5   Goals Against Average     578 non-null    object\n",
      " 6   Goals Per Game            578 non-null    object\n",
      " 7   Penalty Corners Per Game  577 non-null    object\n",
      " 8   Points Per Game           577 non-null    object\n",
      " 9   Save Percentage           574 non-null    object\n",
      " 10  Saves Per Game            497 non-null    object\n",
      " 11  Scoring Average           577 non-null    object\n",
      " 12  Scoring Margin            303 non-null    object\n",
      " 13  Shutouts Per Game         528 non-null    object\n",
      " 14  Winning Percentage        577 non-null    object\n",
      "dtypes: object(15)\n",
      "memory usage: 77.0+ KB\n"
     ]
    }
   ],
   "source": [
    "data.info()"
   ]
  },
  {
   "cell_type": "code",
   "execution_count": 15,
   "metadata": {
    "ExecuteTime": {
     "end_time": "2020-08-25T02:05:49.088378Z",
     "start_time": "2020-08-25T02:05:48.539964Z"
    }
   },
   "outputs": [],
   "source": [
    "data.to_pickle('data.pickle')"
   ]
  }
 ],
 "metadata": {
  "kernelspec": {
   "display_name": "Python [conda env:metis] *",
   "language": "python",
   "name": "conda-env-metis-py"
  },
  "language_info": {
   "codemirror_mode": {
    "name": "ipython",
    "version": 3
   },
   "file_extension": ".py",
   "mimetype": "text/x-python",
   "name": "python",
   "nbconvert_exporter": "python",
   "pygments_lexer": "ipython3",
   "version": "3.8.3"
  },
  "toc": {
   "base_numbering": 1,
   "nav_menu": {},
   "number_sections": true,
   "sideBar": true,
   "skip_h1_title": false,
   "title_cell": "Table of Contents",
   "title_sidebar": "Contents",
   "toc_cell": false,
   "toc_position": {},
   "toc_section_display": true,
   "toc_window_display": false
  }
 },
 "nbformat": 4,
 "nbformat_minor": 4
}
